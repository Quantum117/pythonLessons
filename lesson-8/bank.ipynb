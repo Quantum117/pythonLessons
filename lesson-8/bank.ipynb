{
 "cells": [
  {
   "metadata": {},
   "cell_type": "markdown",
   "source": [
    "1) When to work with dictionary it is safer to use get() method instead of direct indexing .Indexing gives key error if key not found get() method returns None in this case.\n",
    "###\n",
    "2) opinion from gpt about error handling when initializing\n",
    "You’ve implemented a solid approach using a static `initialize_bank` method for centralized and error-handling-aware `Bank` creation. This closely aligns with how real-world applications manage initialization. With refinements like logging, retry mechanisms, or custom exceptions, your solution could easily scale to meet higher levels of complexity and robustness.\n",
    "3) question how should i handle 2nd instead (answer was kinda  using loggers, but it is advanced concept) ?"
   ],
   "id": "194305b182a989bb"
  }
 ],
 "metadata": {},
 "nbformat": 5,
 "nbformat_minor": 9
}
