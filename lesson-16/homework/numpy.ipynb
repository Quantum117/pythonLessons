{
 "cells": [
  {
   "metadata": {
    "ExecuteTime": {
     "end_time": "2025-03-02T10:58:55.924502Z",
     "start_time": "2025-03-02T10:58:55.680653Z"
    }
   },
   "cell_type": "code",
   "source": "import numpy as np",
   "id": "4a255e02f56144ac",
   "outputs": [],
   "execution_count": 2
  },
  {
   "metadata": {},
   "cell_type": "markdown",
   "source": "Task1",
   "id": "55e1f03ebfed2902"
  },
  {
   "metadata": {
    "ExecuteTime": {
     "end_time": "2025-03-02T10:58:57.177377Z",
     "start_time": "2025-03-02T10:58:57.160465Z"
    }
   },
   "cell_type": "code",
   "source": [
    "\n",
    "\n",
    "def fahrenheit_to_celcius(x):\n",
    "    c=(x-32)*5/9\n",
    "    return c\n",
    "\n",
    "vectorized_F_to_Celc=np.vectorize(fahrenheit_to_celcius)\n",
    "celcius_array=vectorized_F_to_Celc(np.array([32, 68, 100, 212, 77]))\n",
    "print(celcius_array)"
   ],
   "id": "2e29fbb2fbf6d58b",
   "outputs": [
    {
     "name": "stdout",
     "output_type": "stream",
     "text": [
      "[  0.          20.          37.77777778 100.          25.        ]\n"
     ]
    }
   ],
   "execution_count": 3
  },
  {
   "metadata": {},
   "cell_type": "markdown",
   "source": "Task2",
   "id": "b4b0432c10dd712"
  },
  {
   "metadata": {
    "ExecuteTime": {
     "end_time": "2025-03-02T10:59:24.128905Z",
     "start_time": "2025-03-02T10:59:24.103775Z"
    }
   },
   "cell_type": "code",
   "source": [
    "import numpy as np\n",
    "\n",
    "def power(x,y):\n",
    "    return x**y\n",
    "\n",
    "a=[2, 3, 4, 5]\n",
    "b=[1, 2, 3, 4]\n",
    "\n",
    "vectorized_power=np.vectorize(power)\n",
    "res=vectorized_power(a,b)\n",
    "print(res)"
   ],
   "id": "a5c708bef3403e82",
   "outputs": [
    {
     "name": "stdout",
     "output_type": "stream",
     "text": [
      "[  2   9  64 625]\n"
     ]
    }
   ],
   "execution_count": 4
  },
  {
   "metadata": {},
   "cell_type": "markdown",
   "source": "Task3",
   "id": "11881fe024094ee1"
  },
  {
   "metadata": {
    "ExecuteTime": {
     "end_time": "2025-03-02T10:59:55.199287Z",
     "start_time": "2025-03-02T10:59:55.156152Z"
    }
   },
   "cell_type": "code",
   "source": [
    "a=np.array([\n",
    "    [4,5,6],\n",
    "    [3,-1,1],\n",
    "    [2,1,-2]\n",
    "])\n",
    "\n",
    "b=np.array([7,4,5])\n",
    "\n",
    "res=np.linalg.solve(a,b)\n",
    "print(f\"x = {res[0]} \\ny = {res[1]} \\nz = {res[2]}\")"
   ],
   "id": "e06f9159dcf38ece",
   "outputs": [
    {
     "name": "stdout",
     "output_type": "stream",
     "text": [
      "x = 1.7027027027027029 \n",
      "y = 0.6216216216216216 \n",
      "z = -0.48648648648648646\n"
     ]
    }
   ],
   "execution_count": 5
  },
  {
   "metadata": {},
   "cell_type": "markdown",
   "source": "Task4",
   "id": "2459279e733193d1"
  },
  {
   "metadata": {
    "ExecuteTime": {
     "end_time": "2025-03-02T11:00:26.937574Z",
     "start_time": "2025-03-02T11:00:26.924052Z"
    }
   },
   "cell_type": "code",
   "source": [
    "A=np.array([\n",
    "    [10,-2,3],\n",
    "    [-2,8,-1],\n",
    "    [3,-1,6]\n",
    "])\n",
    "\n",
    "B=np.array([12,-5,15])\n",
    "\n",
    "res=np.linalg.solve(A,B)\n",
    "print(f\"I1 is {res[0]} \\nI2 is {res[1]} \\nI3 is {res[2]}\")\n",
    "\n"
   ],
   "id": "68cc92e8cdf93251",
   "outputs": [
    {
     "name": "stdout",
     "output_type": "stream",
     "text": [
      "I1 is 0.48963730569948194 \n",
      "I2 is -0.2253886010362694 \n",
      "I3 is 2.2176165803108807\n"
     ]
    }
   ],
   "execution_count": 6
  }
 ],
 "metadata": {
  "kernelspec": {
   "name": "python3",
   "language": "python",
   "display_name": "Python 3 (ipykernel)"
  }
 },
 "nbformat": 5,
 "nbformat_minor": 9
}
