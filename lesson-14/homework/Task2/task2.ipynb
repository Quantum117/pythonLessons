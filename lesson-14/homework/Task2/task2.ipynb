{
 "cells": [
  {
   "metadata": {
    "ExecuteTime": {
     "end_time": "2025-02-07T14:46:55.271651Z",
     "start_time": "2025-02-07T14:46:54.749365Z"
    }
   },
   "cell_type": "code",
   "source": [
    "from bs4 import  BeautifulSoup\n",
    "import  requests\n",
    "import sqlite3"
   ],
   "id": "874d1eb2f3312992",
   "outputs": [],
   "execution_count": 3
  },
  {
   "metadata": {},
   "cell_type": "markdown",
   "source": "",
   "id": "3d682cf61f78c2c4"
  },
  {
   "metadata": {
    "ExecuteTime": {
     "end_time": "2025-02-07T14:48:14.890652Z",
     "start_time": "2025-02-07T14:46:56.490114Z"
    }
   },
   "cell_type": "code",
   "source": [
    "base_Url = 'https://realpython.github.io/fake-jobs/'\n",
    "\n",
    "# get html content from base url\n",
    "html = requests.get(base_Url)\n",
    "soup = BeautifulSoup(html.text, 'html.parser')\n",
    "# every job is located inside a tag so we get all of them\n",
    "a = soup.find_all('a')\n",
    "\n",
    "# getting job urls from a tags in every job\n",
    "urls = [item['href'] for item in a if item.text == 'Apply']\n",
    "\n",
    "# jobs list\n",
    "jobs =[]\n",
    "\n",
    "# looping through every job url\n",
    "for url in urls :\n",
    "    content = requests.get(url)\n",
    "    # parse html content to bs\n",
    "    b_soup = BeautifulSoup(content.text, 'html.parser')\n",
    "    title = b_soup.find('h1', class_ = \"title is-2\").text\n",
    "    company = b_soup.find('h2', class_ = \"subtitle is-4 company\").text\n",
    "    description = b_soup.find('div', class_ = \"content\").find('p').text\n",
    "    location = b_soup.find('p', id = 'location').text.replace(\"Location: \", '')\n",
    "    date = b_soup.find('p', id = 'date').text.replace(\"Posted: \", '')\n",
    "    jobs.append({'job_title': title,'company_name':company, 'description': description, 'location': location, 'date': date})\n",
    "\n",
    "#print items from jobs\n",
    "for item in jobs:\n",
    "    print(item)"
   ],
   "id": "dde105c42d1052f9",
   "outputs": [
    {
     "name": "stdout",
     "output_type": "stream",
     "text": [
      "{'job_title': 'Senior Python Developer', 'company_name': 'Payne, Roberts and Davis', 'description': 'Professional asset web application environmentally friendly detail-oriented asset. Coordinate educational dashboard agile employ growth opportunity. Company programs CSS explore role. Html educational grit web application. Oversea SCRUM talented support. Web Application fast-growing communities inclusive programs job CSS. Css discussions growth opportunity explore open-minded oversee. Css Python environmentally friendly collaborate inclusive role. Django no experience oversee dashboard environmentally friendly willing to learn programs. Programs open-minded programs asset.', 'location': 'Stewartbury, AA', 'date': '2021-04-08'}\n",
      "{'job_title': 'Energy engineer', 'company_name': 'Vasquez-Davidson', 'description': 'Party prevent live. Quickly candidate change although. Together type music hospital. Every speech support time operation wear often.', 'location': 'Christopherville, AA', 'date': '2021-04-08'}\n",
      "{'job_title': 'Legal executive', 'company_name': 'Jackson, Chambers and Levy', 'description': 'Administration even relate head color. Staff beyond chair recently and off. Own available buy country store build before. Already against which continue. Look road article quickly. International big employee determine positive go Congress. Level others record hospital employee toward like.', 'location': 'Port Ericaburgh, AA', 'date': '2021-04-08'}\n",
      "{'job_title': 'Fitness centre manager', 'company_name': 'Savage-Bradley', 'description': 'Tv program actually race tonight themselves true power. Study economy night actually score from. Name care several. Good explain grow water plant perform resource. Security stock ball organization recognize civil. Pm her then nothing increase.', 'location': 'East Seanview, AP', 'date': '2021-04-08'}\n",
      "{'job_title': 'Product manager', 'company_name': 'Ramirez Inc', 'description': 'Traditional page a although for study anyone. Could yourself plan base rise would. Wear individual about add senior woman. Partner couple part cup few read consider. Take however ball ever laugh society technology. President stage population boy.', 'location': 'North Jamieview, AP', 'date': '2021-04-08'}\n",
      "{'job_title': 'Medical technical officer', 'company_name': 'Rogers-Yates', 'description': 'Suffer which parent. Republican total policy head Mrs debate onto. Catch even front. Responsibility full per among clearly word. Guess writer can boy room. Film tax rock. Idea foreign increase between training.', 'location': 'Davidville, AP', 'date': '2021-04-08'}\n",
      "{'job_title': 'Physiological scientist', 'company_name': 'Kramer-Klein', 'description': 'Friend reach choose coach north. Assume be seek article. Better news face.', 'location': 'South Christopher, AE', 'date': '2021-04-08'}\n",
      "{'job_title': 'Textile designer', 'company_name': 'Meyers-Johnson', 'description': 'Court boy state table agree moment. Budget huge debate among way. Perhaps bit learn gun still. Writer work chance image. There many true follow marriage material. Myself use act relationship section.', 'location': 'Port Jonathan, AE', 'date': '2021-04-08'}\n",
      "{'job_title': 'Television floor manager', 'company_name': 'Hughes-Williams', 'description': 'At be than always different American address. Former claim chance prevent why measure too. Almost before some military outside baby interview. Face top individual win suddenly. Parent do ten after those scientist. Medical effort assume teacher wall. Significant his himself clearly very. Expert stop area along individual. Three own bank recognize special good along.', 'location': 'Osbornetown, AE', 'date': '2021-04-08'}\n",
      "{'job_title': 'Waste management officer', 'company_name': 'Jones, Williams and Villa', 'description': 'Food record power crime situation since book art. Pass value practice wide require fast support. Son true their race special million. Although hot he couple ground.', 'location': 'Scotttown, AP', 'date': '2021-04-08'}\n",
      "{'job_title': 'Software Engineer (Python)', 'company_name': 'Garcia PLC', 'description': 'Collaborate discussions responsible tech growth opportunity dashboard. Distributed SCRUM willing to learn Flask build environmentally friendly environmentally friendly. Python distributed developer teamwork inclusive Flask. Professional environmentally friendly asset CSS no experience no experience. Grit oversea Java detail-oriented collaborate relocation. Responsible Tech support support motivated teamwork willing to learn job relocation. Environmentally Friendly collaborate role. Willing To Learn oversea asset role asset relocation web application. Agile responsible tech build oversee coordinate.', 'location': 'Ericberg, AE', 'date': '2021-04-08'}\n",
      "{'job_title': 'Interpreter', 'company_name': 'Gregory and Sons', 'description': 'Door contain head production technology. After back available inside nearly scientist central instead. Be know hard we around impact. While top kid he weight before. Someone everybody newspaper read. Up control instead company where future model. Leg PM low data ability recognize. Left despite boy without feeling participant interest seem.', 'location': 'Ramireztown, AE', 'date': '2021-04-08'}\n",
      "{'job_title': 'Architect', 'company_name': 'Clark, Garcia and Sosa', 'description': 'Huge three report know second. Exist sense training other along society. Move brother teacher three seven. Increase face mind off.', 'location': 'Figueroaview, AA', 'date': '2021-04-08'}\n",
      "{'job_title': 'Meteorologist', 'company_name': 'Bush PLC', 'description': 'Case but building husband life nice federal place. Design major maybe manage when know. Seat appear perform agent. Hospital year suffer without rather bank we. According American per yourself their record. Cell of course its respond. Collection instead today itself language remember. Firm decade cost glass work interview man. Somebody keep daughter report town. Doctor be cost. Sea quality do father.', 'location': 'Kelseystad, AA', 'date': '2021-04-08'}\n",
      "{'job_title': 'Audiological scientist', 'company_name': 'Salazar-Meyers', 'description': 'Program possible natural same issue lawyer effort. Democratic entire analysis clear about pressure cell. Quite wife however TV law fund. Paper beat five movie. Eight miss couple bag thank generation. Economy rock feeling might his. Gas Republican and various authority leave right. True include management. Brother bank better she increase try.', 'location': 'Williamsburgh, AE', 'date': '2021-04-08'}\n",
      "{'job_title': 'English as a second language teacher', 'company_name': 'Parker, Murphy and Brooks', 'description': 'Various floor itself news experience. Smile represent since method left plant evening. Budget situation between. Eat expect save process score middle. Business population brother. Grow push region produce develop story drive.', 'location': 'Mitchellburgh, AE', 'date': '2021-04-08'}\n",
      "{'job_title': 'Surgeon', 'company_name': 'Cruz-Brown', 'description': 'Happen play speech theory choice computer. Career deal trip market. Dog car do his part. Pick too blue street. Other majority final when new clear these. National region bad case I course first.', 'location': 'West Jessicabury, AA', 'date': '2021-04-08'}\n",
      "{'job_title': 'Equities trader', 'company_name': 'Macdonald-Ferguson', 'description': 'Public figure ground much run character. Make article drop. Difficult president at. General professional career two. Itself group computer forget would section him.', 'location': 'Maloneshire, AE', 'date': '2021-04-08'}\n",
      "{'job_title': 'Newspaper journalist', 'company_name': 'Williams, Peterson and Rojas', 'description': 'May perform product. Bag down stock computer. What to sea. Collection bad until our per leader change.', 'location': 'Johnsonton, AA', 'date': '2021-04-08'}\n",
      "{'job_title': 'Materials engineer', 'company_name': 'Smith and Sons', 'description': 'Leader medical class send. Establish manage hotel financial too nearly. Significant now energy. Lay return identify. Anything event yet effect quite reflect upon. Several might history strong economy. Not forget why under. Purpose mouth then class test check suffer star. Staff north weight guy personal follow situation over.', 'location': 'South Davidtown, AP', 'date': '2021-04-08'}\n",
      "{'job_title': 'Python Programmer (Entry-Level)', 'company_name': 'Moss, Duncan and Allen', 'description': 'Java programs distributed teamwork Java developer talented developer. Teamwork growth opportunity programs remote. Communities agile Flask company CSS teamwork. Software Developer SCRUM oversea CSS Flask role job. Developer motivated environmentally friendly build oversea teamwork build. Growth Opportunity inclusive employ educational relocation company. Motivated growth opportunity growth opportunity dashboard.', 'location': 'Port Sara, AE', 'date': '2021-04-08'}\n",
      "{'job_title': 'Product/process development scientist', 'company_name': 'Gomez-Carroll', 'description': 'Tell time special beyond could key assume. Play wait education think similar particular. Film manage several dark. Hit simple personal home they although.', 'location': 'Marktown, AA', 'date': '2021-04-08'}\n",
      "{'job_title': 'Scientist, research (maths)', 'company_name': 'Manning, Welch and Herring', 'description': 'Bank ten guess. Course book music amount. Fire town worker. Image central challenge term memory. By care lose politics. Role mind statement.', 'location': 'Laurenland, AE', 'date': '2021-04-08'}\n",
      "{'job_title': 'Ecologist', 'company_name': 'Lee, Gutierrez and Brown', 'description': 'Son foreign remember site military. Your choice too need although one political. Time firm water. Possible lead draw learn city. Tree care sign arm bar military. Spend bag into. Now from her gun subject PM. First age safe affect.', 'location': 'Lauraton, AP', 'date': '2021-04-08'}\n",
      "{'job_title': 'Materials engineer', 'company_name': 'Davis, Serrano and Cook', 'description': 'Approach great top series public none. Include air sort couple hold group but. Again identify real to follow so. Live teach movie I situation understand agree.', 'location': 'South Tammyberg, AP', 'date': '2021-04-08'}\n",
      "{'job_title': 'Historic buildings inspector/conservation officer', 'company_name': 'Smith LLC', 'description': 'Heavy church nature. Civil single city quite. Foreign agency when personal huge difficult player forget. Goal clear inside guy north. North add us accept hope soon.', 'location': 'North Brandonville, AP', 'date': '2021-04-08'}\n",
      "{'job_title': 'Data scientist', 'company_name': 'Thomas Group', 'description': 'Skin industry nothing rather represent two. Member mouth authority imagine probably whom. Time early high trouble drive loss. Attorney education every money my page single theory. American focus something who blood.', 'location': 'Port Robertfurt, AA', 'date': '2021-04-08'}\n",
      "{'job_title': 'Psychiatrist', 'company_name': 'Silva-King', 'description': 'Claim future in opportunity you exist me. Generation pick she picture send cultural. Computer on fast play fact. Alone improve heart decade care book. Close issue huge away represent race. Nation network college debate direction moment. Ground think save respond friend budget while. Significant energy citizen physical why mouth. Treatment worker season figure. Get we memory who yet spend. Challenge on plant wonder. Blood single recently other owner message entire. Collection be along break gun reveal five put.', 'location': 'Burnettbury, AE', 'date': '2021-04-08'}\n",
      "{'job_title': 'Structural engineer', 'company_name': 'Pierce-Long', 'description': 'Tv collection still support these military part. Just raise enough onto try. Those north trouble upon. Popular if do them. Lose big strategy.', 'location': 'Herbertside, AA', 'date': '2021-04-08'}\n",
      "{'job_title': 'Immigration officer', 'company_name': 'Walker-Simpson', 'description': 'Lead while long not. News enter director book cell speech. Probably arm program only. According television next sense make. Use nice themselves gas. Rate drop marriage worker.', 'location': 'Christopherport, AP', 'date': '2021-04-08'}\n",
      "{'job_title': 'Python Programmer (Entry-Level)', 'company_name': 'Cooper and Sons', 'description': 'Asset fast-growing role agile support discussions. Agile explore detail-oriented willing to learn oversea fast-growing. Talented relocation environmentally friendly Flask oversea. Discussions CSS agile curious educational willing to learn.', 'location': 'West Victor, AE', 'date': '2021-04-08'}\n",
      "{'job_title': 'Neurosurgeon', 'company_name': 'Donovan, Gonzalez and Figueroa', 'description': 'Left very your stock determine human find. Fire range begin first through. Star issue any side image. Customer force both something hair. Well account movement can start.', 'location': 'Port Aaron, AP', 'date': '2021-04-08'}\n",
      "{'job_title': 'Broadcast engineer', 'company_name': 'Morgan, Butler and Bennett', 'description': 'Unit dinner indeed listen. Job high she. West agreement girl happen front law care military. War resource evening realize per. Her of process cut. Matter nice really listen meeting language condition.', 'location': 'Loribury, AA', 'date': '2021-04-08'}\n",
      "{'job_title': 'Make', 'company_name': 'Snyder-Lee', 'description': 'Agency rich accept if share land. Drop local cell kid growth main. Why mission because feel. Piece but arrive garden free perform civil. Hope could many cold another way sign. Thought radio minute rich consumer type. Old charge read management production up our allow. Toward such new cultural analysis care kitchen. Difference range technology serious international position write those.', 'location': 'Angelastad, AP', 'date': '2021-04-08'}\n",
      "{'job_title': 'Nurse, adult', 'company_name': 'Harris PLC', 'description': 'Suffer life chair senior seem west. Week remain decide happy another image. Take one them in. Plant whether protect most trade. Herself Mr bad wide manage.', 'location': 'Larrytown, AE', 'date': '2021-04-08'}\n",
      "{'job_title': 'Air broker', 'company_name': 'Washington PLC', 'description': 'Happen letter body language there wonder him. Until direction opportunity very analysis firm once. As year look floor role agency its. Seven those budget involve. Picture enough break. Health sort couple station my. Middle add traditional standard PM election. General yet party individual. Edge bit avoid yourself.', 'location': 'West Colin, AP', 'date': '2021-04-08'}\n",
      "{'job_title': 'Editor, film/video', 'company_name': 'Brown, Price and Campbell', 'description': 'Cut recognize keep citizen result thus. System democratic stock worker everybody professor show. Produce foreign the site. Along particularly factor boy Republican without. Never ten become me story but order. You company drop join recognize all structure. Away wish finish within president. Any remain support realize cause.', 'location': 'West Stephanie, AP', 'date': '2021-04-08'}\n",
      "{'job_title': 'Production assistant, radio', 'company_name': 'Mcgee PLC', 'description': 'Hear minute discuss space himself draw. Better consumer campaign join throw. Moment buy east example identify likely. Clearly thought modern dark. Determine feeling certainly necessary. Name Congress ten return understand. During nice thing ok.', 'location': 'Laurentown, AP', 'date': '2021-04-08'}\n",
      "{'job_title': 'Engineer, communications', 'company_name': 'Dixon Inc', 'description': 'Cold measure defense mouth manage camera. Mouth tonight throw action. Second late every include generation. Election baby seven only scientist teach.', 'location': 'Wrightberg, AP', 'date': '2021-04-08'}\n",
      "{'job_title': 'Sales executive', 'company_name': 'Thompson, Sheppard and Ward', 'description': 'Out goal group. Maybe read card look safe. Part fund feeling cause stand. Give point herself official receive may. Successful country describe method meeting space military. Sing media step live game item lay. Appear role why learn attention cut billion. Without wall stay describe time.', 'location': 'Alberttown, AE', 'date': '2021-04-08'}\n",
      "{'job_title': 'Software Developer (Python)', 'company_name': 'Adams-Brewer', 'description': 'Asset include open-minded HTML fast-growing. Coordinate discussions grit discussions. Coordinate communities HTML. Support Java Java talented explore dashboard. Growth Opportunity educational collaborate job Flask explore talented talented. Dashboard distributed oversee environmentally friendly. Java Python asset SCRUM company employ web application web application.', 'location': 'Brockburgh, AE', 'date': '2021-04-08'}\n",
      "{'job_title': 'Futures trader', 'company_name': 'Schneider-Brady', 'description': 'Part instead city type short rather. Once born control white. Rather beyond share energy size. Meeting movie avoid American address simply. Thousand impact six loss. Finish star be.', 'location': 'North Jason, AE', 'date': '2021-04-08'}\n",
      "{'job_title': 'Tour manager', 'company_name': 'Gonzales-Frank', 'description': 'Night reflect image throughout. Area student there certainly walk camera debate. Store office explain education. Range ten television model sing then. Choice cell seven care yet. According star study form seem beat. Effect forward magazine movie base.', 'location': 'Arnoldhaven, AE', 'date': '2021-04-08'}\n",
      "{'job_title': 'Cytogeneticist', 'company_name': 'Smith-Wong', 'description': 'Finish these century alone popular break attention. North good program risk I. Season toward level generation since also. Sit hand society according off little. Itself people nation million born American. Always hand game magazine series think.', 'location': 'Lake Destiny, AP', 'date': '2021-04-08'}\n",
      "{'job_title': 'Designer, multimedia', 'company_name': 'Pierce-Herrera', 'description': 'Moment young close history explain these low. Religious your outside. Particularly firm foreign involve. Century involve down herself drive effort drop onto. Walk draw front plan focus century.', 'location': 'South Timothyburgh, AP', 'date': '2021-04-08'}\n",
      "{'job_title': 'Trade union research officer', 'company_name': 'Aguilar, Rivera and Quinn', 'description': 'Must toward family event. Government image room analysis what. Story suggest learn economy explain main sport summer. Approach trip throughout free civil entire. Just nature increase trouble heart watch bed. Yet so before wrong.', 'location': 'New Jimmyton, AE', 'date': '2021-04-08'}\n",
      "{'job_title': 'Chemist, analytical', 'company_name': 'Lowe, Barnes and Thomas', 'description': 'Report sign office until particularly when. Everyone city contain week carry. Election small certainly pattern daughter. Together professional wind consider. Admit Mrs look call spring establish together record. Social say about century debate.', 'location': 'New Lucasbury, AP', 'date': '2021-04-08'}\n",
      "{'job_title': 'Programmer, multimedia', 'company_name': 'Lewis, Gonzalez and Vasquez', 'description': 'Discuss power safe push country glass. Good open executive experience hotel. Heart west training believe. Resource truth leave institution. Crime social school enter wind heavy anything. Save himself call report must charge. Figure kitchen seven. Decision data wrong best I medical. See collection cut drive out image thought.', 'location': 'Port Cory, AE', 'date': '2021-04-08'}\n",
      "{'job_title': 'Engineer, broadcasting (operations)', 'company_name': 'Taylor PLC', 'description': 'Mind perform over ten tree pull likely. Owner ahead generation shoulder day popular window key. Radio stay century law before everybody power. Forget result professor research theory become. Step have perform because. Important they tax machine. Military plan school certainly. Focus raise away tough subject customer far. Prepare scene house central baby picture. Money store majority choice. Then investment scientist bring.', 'location': 'Gileston, AA', 'date': '2021-04-08'}\n",
      "{'job_title': 'Teacher, primary school', 'company_name': 'Oliver, Jones and Ramirez', 'description': 'Positive better management minute air represent. Beat start say either none heavy down business. Way sister civil market value during difficult religious. Ten will summer specific.', 'location': 'Cindyshire, AA', 'date': '2021-04-08'}\n",
      "{'job_title': 'Python Developer', 'company_name': 'Rivera and Sons', 'description': 'Css role company. Oversea include distributed educational. Talented support curious CSS include. Collaborate oversee responsible tech employ distributed software developer company. Css talented company environmentally friendly SCRUM Flask. Include talented educational SCRUM relocation. Professional asset Django growth opportunity discussions dashboard discussions. Explore build software developer developer job willing to learn remote. Support responsible tech communities remote explore. Teamwork Java job oversee CSS. Talented Flask oversee CSS.', 'location': 'East Michaelfort, AA', 'date': '2021-04-08'}\n",
      "{'job_title': 'Manufacturing systems engineer', 'company_name': 'Garcia PLC', 'description': 'Improve once worry newspaper laugh benefit. Teach hit lose hotel result instead push. Over feeling money newspaper question. Why ability fund. Laugh cup hear prove leave national. Hundred billion blue right fine boy sing.', 'location': 'Joybury, AE', 'date': '2021-04-08'}\n",
      "{'job_title': 'Producer, television/film/video', 'company_name': 'Johnson, Wells and Kramer', 'description': 'Let toward reason key. Agree her whether beyond bar shoulder decade. Director population measure student cost policy. Open wife owner. Get finish pick shake level. General simple cost develop left.', 'location': 'Emmatown, AE', 'date': '2021-04-08'}\n",
      "{'job_title': 'Scientist, forensic', 'company_name': 'Gonzalez LLC', 'description': 'Staff week own necessary allow. Throughout society theory happy culture daughter. Yeah process rest really wait if everything. Into name response garden.', 'location': 'Colehaven, AP', 'date': '2021-04-08'}\n",
      "{'job_title': 'Bonds trader', 'company_name': 'Morgan, White and Macdonald', 'description': 'Get poor herself population. Executive will network physical play. Child push it why research wind yard. Return few natural fight stand one significant get. Keep kid assume dinner former heavy.', 'location': 'Port Coryton, AE', 'date': '2021-04-08'}\n",
      "{'job_title': 'Editorial assistant', 'company_name': 'Robinson-Fitzpatrick', 'description': 'Would truth join issue face key when. City citizen to. List run safe figure. Allow star forward leave art practice.', 'location': 'Amyborough, AA', 'date': '2021-04-08'}\n",
      "{'job_title': 'Photographer', 'company_name': 'Waters, Wilson and Hoover', 'description': 'Some before according. Around almost amount themselves test. Power one after score career big remember.', 'location': 'Reynoldsville, AA', 'date': '2021-04-08'}\n",
      "{'job_title': 'Retail banker', 'company_name': 'Hill LLC', 'description': 'Big talk role instead candidate phone when. Easy role yes to more food recognize. Hotel fill not before painting sure whom. Wall measure again ability election. Present carry break majority low.', 'location': 'Port Billy, AP', 'date': '2021-04-08'}\n",
      "{'job_title': 'Jewellery designer', 'company_name': 'Li-Gregory', 'description': 'Believe soldier certain edge couple break provide drug. Show whatever simple wrong newspaper allow. Discuss almost serious Mr sing city. Another wonder reveal yet possible. Similar entire pretty. Effect unit state plant. Market the particular available.', 'location': 'Adamburgh, AA', 'date': '2021-04-08'}\n",
      "{'job_title': 'Ophthalmologist', 'company_name': 'Fisher, Ryan and Coleman', 'description': 'Nature cup whom poor send through law national. Or which white get bring society industry. Look too reveal safe. Top his outside project us pass management serious. Child investment yourself still. Education red citizen notice feeling. Better child computer either.', 'location': 'Wilsonmouth, AA', 'date': '2021-04-08'}\n",
      "{'job_title': 'Back-End Web Developer (Python, Django)', 'company_name': 'Stewart-Alexander', 'description': 'Explore professional teamwork software developer dashboard distributed. Css asset distributed curious inclusive CSS. Professional motivated remote. Oversea web application Flask HTML CSS web application Java. Employ explore support Flask collaborate developer explore growth opportunity.', 'location': 'South Kimberly, AA', 'date': '2021-04-08'}\n",
      "{'job_title': 'Licensed conveyancer', 'company_name': 'Abbott and Sons', 'description': 'Simple guess member hour movement. Benefit thus mean certainly value create agree likely. Model cause letter career election few turn. Tree amount billion beyond quality fill final. Half side price little identify degree individual environment. It manage heavy investment day interest side. Author carry focus fact special. Early leave camera future despite child. Only know fish beautiful firm evening green. Both focus foreign four. Country power police.', 'location': 'Benjaminland, AP', 'date': '2021-04-08'}\n",
      "{'job_title': 'Futures trader', 'company_name': 'Bryant, Santana and Davenport', 'description': 'Her become less. Religious around both place. Parent behind bank oil describe section. Suddenly idea common laugh environment. Phone positive idea throughout concern class. Deep minute top group.', 'location': 'Zacharyport, AA', 'date': '2021-04-08'}\n",
      "{'job_title': 'Counselling psychologist', 'company_name': 'Smith PLC', 'description': 'Matter upon assume trouble. Its guess different follow current pay. Produce team operation point loss mean. Similar adult range true even. Nature street find community any morning more. None say heart information part full your yeah. Mind scene ago scene.', 'location': 'Port Devonville, AE', 'date': '2021-04-08'}\n",
      "{'job_title': 'Insurance underwriter', 'company_name': 'Patterson-Singh', 'description': 'Push serve rule thus. Western worry week people worker time. Hot always say notice though. Increase simple as. Use through first exactly. Since laugh model make speak. Thank kitchen move husband friend idea thus. Up add subject research sell.', 'location': 'East Thomas, AE', 'date': '2021-04-08'}\n",
      "{'job_title': 'Engineer, automotive', 'company_name': 'Martinez-Berry', 'description': 'Me media onto continue machine. View its contain such approach although say. Smile reveal third option. None position hand benefit.', 'location': 'New Jeffrey, AP', 'date': '2021-04-08'}\n",
      "{'job_title': 'Producer, radio', 'company_name': 'May, Taylor and Fisher', 'description': 'Believe industry yeah see country. Concern reach every put. Knowledge report national senior. Activity country itself eat former into. Foreign loss manage each. General college bed everybody. According speech personal task same yourself front. Suddenly really social standard even exist identify. Speak lay born. Form parent majority know participant. Increase ago surface weight. Back ten mention laugh.', 'location': 'Davidside, AA', 'date': '2021-04-08'}\n",
      "{'job_title': 'Dispensing optician', 'company_name': 'Bailey, Owen and Thompson', 'description': 'Drug dark wrong response. Agree tax form great education. See we find knowledge treatment development serious. Address star role yard son speech Democrat.', 'location': 'Jamesville, AA', 'date': '2021-04-08'}\n",
      "{'job_title': 'Designer, fashion/clothing', 'company_name': 'Vasquez Ltd', 'description': 'Represent performance cold if project. Statement unit in baby. Economic attack food laugh newspaper part better. Specific city paper part. Simply degree article available possible order.', 'location': 'New Kelly, AP', 'date': '2021-04-08'}\n",
      "{'job_title': 'Chartered loss adjuster', 'company_name': 'Leblanc LLC', 'description': 'Suffer space a would free finally. Society oil activity include audience white step. Star feel chance although address politics. Across do issue let spend compare. Lawyer attack simply protect something camera himself. Safe prepare blue tend. If executive success ago five information.', 'location': 'Lake Antonio, AA', 'date': '2021-04-08'}\n",
      "{'job_title': 'Back-End Web Developer (Python, Django)', 'company_name': 'Jackson, Ali and Mckee', 'description': 'Detail-Oriented support Django. Build support support agile. Oversee SCRUM role coordinate distributed Python. Inclusive willing to learn build inclusive environmentally friendly developer. Discussions distributed remote build Flask growth opportunity. Environmentally Friendly talented software developer collaborate remote collaborate. Programs developer developer professional. Role asset company growth opportunity. Programs communities employ relocation. Software Developer CSS motivated. Discussions fast-growing discussions employ coordinate. Oversee curious detail-oriented dashboard detail-oriented. Company grit oversea support. Collaborate company support grit willing to learn company.', 'location': 'New Elizabethside, AA', 'date': '2021-04-08'}\n",
      "{'job_title': 'Forest/woodland manager', 'company_name': 'Blankenship, Knight and Powell', 'description': 'Feel beat why matter instead need conference. Expert suggest school far. Tonight east trouble two oil drive local. Group environmental foreign threat billion. Less physical media artist. Husband lot start find cell animal ready. Less concern several than. Factor blue walk water while.', 'location': 'Millsbury, AE', 'date': '2021-04-08'}\n",
      "{'job_title': 'Clinical cytogeneticist', 'company_name': 'Patton, Haynes and Jones', 'description': 'Painting fast magazine east since use out. Will consider probably against. Bill fire through bill. Wide billion raise mission recently value expert. Bed among understand else represent detail open future.', 'location': 'Lloydton, AP', 'date': '2021-04-08'}\n",
      "{'job_title': 'Print production planner', 'company_name': 'Wood Inc', 'description': 'Effect adult run point spring room. Travel responsibility cut hour pick Mrs. Soldier against take budget agency century. Anything trial factor culture. Drug north shake property fish plan. Expert assume every walk degree rise laugh citizen. Coach yard treat.', 'location': 'Port Jeremy, AA', 'date': '2021-04-08'}\n",
      "{'job_title': 'Systems developer', 'company_name': 'Collins Group', 'description': 'Finish pressure recognize would pattern still simply. Candidate defense discussion cell among. Before study sound its practice how save. Personal which reflect decision particular network pull. Miss anyone number easy hotel news film building. Of wind white message laugh billion. Staff follow baby job game according board whole. Strategy black cultural pull above us.', 'location': 'New Elizabethtown, AA', 'date': '2021-04-08'}\n",
      "{'job_title': 'Graphic designer', 'company_name': 'Flores-Nelson', 'description': 'Six enough war husband land. Fill address teach simply wait similar blood. Child lead sport everything. Report necessary lawyer else behind. Need simply growth television. Arm prove community expect live music.', 'location': 'Charlesstad, AE', 'date': '2021-04-08'}\n",
      "{'job_title': 'Writer', 'company_name': 'Mitchell, Jones and Olson', 'description': 'Together far enough ability citizen girl. Box political herself society position. Structure foot question learn economic recent let receive. No enough case action institution produce.', 'location': 'Josephbury, AE', 'date': '2021-04-08'}\n",
      "{'job_title': 'Field seismologist', 'company_name': 'Howard Group', 'description': 'Religious question him amount will data school. During star much fine sometimes drive manage. Item land commercial guess push support save. Ever hospital arrive third quite beyond you out. Close among move class often bad character. Imagine affect explain single. Down try happen. Garden worry put he ask could. Edge change structure control career state six. Five old personal benefit.', 'location': 'Seanfurt, AA', 'date': '2021-04-08'}\n",
      "{'job_title': 'Chief Strategy Officer', 'company_name': 'Kramer-Edwards', 'description': 'Else social from side. Someone environmental production standard increase deal. Old yeah interview somebody. She half air important truth. Subject you face ready. Able report director pass machine want. Interesting idea if finally cold store business performance. Offer hope responsibility eight.', 'location': 'Williambury, AA', 'date': '2021-04-08'}\n",
      "{'job_title': 'Air cabin crew', 'company_name': 'Berry-Houston', 'description': 'Even health television perhaps. Travel determine someone hit team. Soon current by write north product well. Guess them purpose partner son air out. General something face material however you. Some left us dark consumer. Also traditional score dark factor tell billion. Clear senior film clearly decide. Or city bit your education expert control.', 'location': 'South Jorgeside, AP', 'date': '2021-04-08'}\n",
      "{'job_title': 'Python Programmer (Entry-Level)', 'company_name': 'Mathews Inc', 'description': 'Asset teamwork open-minded professional. Explore inclusive responsible tech coordinate collaborate distributed. Coordinate responsible tech fast-growing programs. Professional willing to learn open-minded open-minded. Open-Minded software developer asset detail-oriented inclusive remote. Curious build support talented. Role responsible tech no experience professional oversea responsible tech. Grit willing to learn support curious environmentally friendly employ role. Environmentally Friendly HTML Java educational remote.', 'location': 'Robertborough, AP', 'date': '2021-04-08'}\n",
      "{'job_title': 'Warden/ranger', 'company_name': 'Riley-Johnson', 'description': 'Young meeting material deep anything town. Enter political site beyond. Boy executive year drive small smile. Benefit lose trade different. Case research approach live necessary. Than design staff forward respond bill. Dark power energy look source protect owner. Identify involve hospital capital others majority something. Tough radio not account land why thought how.', 'location': 'South Saratown, AP', 'date': '2021-04-08'}\n",
      "{'job_title': 'Sports therapist', 'company_name': 'Spencer and Sons', 'description': 'Apply western feeling. Popular too high inside somebody analysis. And give source share budget ready. Theory moment better. Senior alone option in evidence board business.', 'location': 'Hullview, AA', 'date': '2021-04-08'}\n",
      "{'job_title': 'Arts development officer', 'company_name': 'Camacho-Sanchez', 'description': 'Maintain avoid direction hour various leader east. Choice their make eight. Near need recently hospital red. Speak answer fill on program others sort. Significant than discuss ask team maybe. Under white field television its factor. Focus floor subject debate believe federal. Drug wall clearly defense.', 'location': 'Philipland, AP', 'date': '2021-04-08'}\n",
      "{'job_title': 'Printmaker', 'company_name': 'Oliver and Sons', 'description': 'Police space specific enter. Hotel agent clear art international time. American under product occur add beat. Which worry door tonight. Interesting measure value two east avoid.', 'location': 'North Patty, AE', 'date': '2021-04-08'}\n",
      "{'job_title': 'Health and safety adviser', 'company_name': 'Eaton PLC', 'description': 'After level pattern side collection cold team. Human before tell ago question left meeting. Would arrive teacher where close. Piece team middle model pick. Type focus discuss our five purpose everything.', 'location': 'North Stephen, AE', 'date': '2021-04-08'}\n",
      "{'job_title': 'Manufacturing systems engineer', 'company_name': 'Stanley-Frederick', 'description': 'Tough also money system involve require. Feel wear official area agency. Speech lawyer west particularly everything former. Woman at kid box run would. Full describe economy goal. Effect themselves action sound use walk.', 'location': 'Stevensland, AP', 'date': '2021-04-08'}\n",
      "{'job_title': 'Programmer, applications', 'company_name': 'Bradley LLC', 'description': 'High continue test when. International executive base play kitchen try. Country program prove very street know rich medical. Network alone culture exist. Enter message reason expect capital. Person strategy large about into. Reality action coach billion industry themselves especially. Matter not rich foreign professor will. Everything writer mean series nothing nothing. Six day claim contain discuss bad discussion. Institution seek certainly explain space final.', 'location': 'Reyesstad, AE', 'date': '2021-04-08'}\n",
      "{'job_title': 'Medical physicist', 'company_name': 'Parker, Goodwin and Zavala', 'description': 'Ok some group leave course eye between able. Itself customer daughter start quality if list claim. Modern available include. Well condition not who future people. Quality information citizen without Mrs such job. Ability wide attention fact level never view people.', 'location': 'Bellberg, AP', 'date': '2021-04-08'}\n",
      "{'job_title': 'Media planner', 'company_name': 'Kim-Miles', 'description': 'Possible decide career professor experience. Concern above next role. Wear southern lot consider stay throughout itself.', 'location': 'North Johnland, AE', 'date': '2021-04-08'}\n",
      "{'job_title': 'Software Developer (Python)', 'company_name': 'Moreno-Rodriguez', 'description': 'Support communities job web application Python job teamwork Flask. Responsible Tech collaborate talented educational. Python Django oversee. Python talented Python Python. Teamwork remote discussions discussions dashboard. Build no experience HTML growth opportunity. Detail-Oriented motivated responsible tech growth opportunity support. Asset software developer developer oversea curious distributed distributed.', 'location': 'Martinezburgh, AE', 'date': '2021-04-08'}\n",
      "{'job_title': 'Surveyor, land/geomatics', 'company_name': 'Brown-Ortiz', 'description': 'Evening process of run firm sell area. Against some foreign. Same wall wife before eight arm seven interest. Even side over role score. Name have TV environment.', 'location': 'Joshuatown, AE', 'date': '2021-04-08'}\n",
      "{'job_title': 'Legal executive', 'company_name': 'Hartman PLC', 'description': 'Away girl produce class PM. Style become what may simple. Personal Democrat or cut. Measure trial whose thus goal test finish. Peace the agency to sell positive blood home. Dream surface health heart hold nice. Report reason country debate son. Consumer any space what practice.', 'location': 'West Ericstad, AA', 'date': '2021-04-08'}\n",
      "{'job_title': 'Librarian, academic', 'company_name': 'Brooks Inc', 'description': 'Whose into color later case. Cause music picture first air thousand certain. For data Republican face past behind. Their window them particularly admit live. Away debate positive somebody our. He father evidence question fund arrive. Improve run its near. Process little Mr population.', 'location': 'Tuckertown, AE', 'date': '2021-04-08'}\n",
      "{'job_title': 'Barrister', 'company_name': 'Washington-Castillo', 'description': 'Between camera live note fight hit. All describe coach concern worker laugh action. Us likely machine. Stuff seem spend full particular. Set offer present pretty.', 'location': 'Perezton, AE', 'date': '2021-04-08'}\n",
      "{'job_title': 'Museum/gallery exhibitions officer', 'company_name': 'Nguyen, Yoder and Petty', 'description': 'Paper age physical current note. There reality size move red join. Trouble you eight describe pattern hard however sign. Space majority bit instead smile happen. Green wife in end decade leader. Begin actually team industry only. Various picture rule poor information. Admit play avoid few. Day dog receive wife.', 'location': 'Lake Abigail, AE', 'date': '2021-04-08'}\n",
      "{'job_title': 'Radiographer, diagnostic', 'company_name': 'Holder LLC', 'description': 'Able such right culture. Wrong pick structure wrong figure continue food. Glass loss increase organization decide. Present spend make garden social man. Any manager political keep attack behavior security movement. Perhaps such those position wrong. Quickly wind include allow must point. Similar age option war partner determine. Wide method movie painting. Rate measure brother approach five. Later role change. Adult prepare son particular economy evening same trouble. Family east within walk school.', 'location': 'Jacobshire, AP', 'date': '2021-04-08'}\n",
      "{'job_title': 'Database administrator', 'company_name': 'Yates-Ferguson', 'description': 'Create day party decade high clear. Past trade believe worry film. Approach beautiful late. Manage every quality he under. Town foot hotel brother. Perform particular only his.', 'location': 'Port Susan, AE', 'date': '2021-04-08'}\n",
      "{'job_title': 'Furniture designer', 'company_name': 'Ortega-Lawrence', 'description': 'Pressure under rock next week. Recognize so relationship risk. Similar myself improve.', 'location': 'North Tiffany, AA', 'date': '2021-04-08'}\n",
      "{'job_title': 'Ship broker', 'company_name': 'Fuentes, Walls and Castro', 'description': 'Management common popular project only. Must small hair strong reveal future girl. Mother anything western Congress. You thought PM charge or put upon. Least building military seem. Glass type structure so magazine worker. Message become of Republican life field game look.', 'location': 'Michelleville, AP', 'date': '2021-04-08'}\n"
     ]
    }
   ],
   "execution_count": 4
  },
  {
   "metadata": {
    "ExecuteTime": {
     "end_time": "2025-02-07T14:31:07.461435Z",
     "start_time": "2025-02-07T14:31:07.443803Z"
    }
   },
   "cell_type": "code",
   "source": [
    "conn = sqlite3.connect('Jobs.db')\n",
    "cursor = conn.cursor()\n",
    "cursor.execute(\"\"\"CREATE TABLE jobs(\n",
    "                    Job_title text,\n",
    "                    Company_name text,\n",
    "                    Location text )\n",
    "\"\"\")\n",
    "conn.commit()\n",
    "conn.close()"
   ],
   "id": "a6c1bdd96f0d01dc",
   "outputs": [],
   "execution_count": 14
  },
  {
   "metadata": {
    "ExecuteTime": {
     "end_time": "2025-02-07T14:50:54.156422Z",
     "start_time": "2025-02-07T14:50:54.145438Z"
    }
   },
   "cell_type": "code",
   "source": [
    "def insert_to_db(title, company_name, location):\n",
    "    conn = sqlite3.connect('Jobs.db')\n",
    "    cursor = conn.cursor()\n",
    "    query = \"\"\"Insert into jobs(Job_title, Company_name, Location) Values (:job_title, :company_name, :location)\"\"\"\n",
    "    cursor.execute(query, {\"job_title\":title, \"company_name\":company_name, \"location\":location})\n",
    "    conn.commit()\n",
    "    conn.close()"
   ],
   "id": "feb81d9f143ac70e",
   "outputs": [],
   "execution_count": 5
  },
  {
   "metadata": {
    "ExecuteTime": {
     "end_time": "2025-02-07T14:50:56.318973Z",
     "start_time": "2025-02-07T14:50:55.926951Z"
    }
   },
   "cell_type": "code",
   "source": [
    "for item in jobs:\n",
    "    insert_to_db(item['job_title'], item['company_name'], item['location'])"
   ],
   "id": "63707746ed10052",
   "outputs": [],
   "execution_count": 6
  }
 ],
 "metadata": {
  "kernelspec": {
   "name": "python3",
   "language": "python",
   "display_name": "Python 3 (ipykernel)"
  }
 },
 "nbformat": 5,
 "nbformat_minor": 9
}
