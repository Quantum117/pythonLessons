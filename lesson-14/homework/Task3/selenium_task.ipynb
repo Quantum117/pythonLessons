{
 "cells": [
  {
   "metadata": {
    "ExecuteTime": {
     "end_time": "2025-02-08T06:26:17.074257Z",
     "start_time": "2025-02-08T06:26:03.910131Z"
    }
   },
   "cell_type": "code",
   "source": [
    "from selenium import webdriver\n",
    "import time\n",
    "\n",
    "URL = \"https://www.demoblaze.com/index.html\"\n",
    "# Start Chrome WebDriver\n",
    "driver = webdriver.Chrome()  # This assumes chromedriver is in PATH\n",
    "\n",
    "# Open a website\n",
    "driver.get(URL)\n",
    "\n",
    "# Close the browser\n",
    "time.sleep(3)\n",
    "driver.quit()"
   ],
   "id": "679c9098bbec9992",
   "outputs": [],
   "execution_count": 8
  },
  {
   "metadata": {
    "ExecuteTime": {
     "end_time": "2025-02-08T13:03:37.832986Z",
     "start_time": "2025-02-08T13:03:24.144869Z"
    }
   },
   "cell_type": "code",
   "source": [
    "from selenium import webdriver\n",
    "from selenium.webdriver.common.by import By\n",
    "\n",
    "driver = webdriver.Chrome()\n",
    "driver.get(\"https://www.w3schools.com/\")\n",
    "search_box = driver.find_element(by=By.ID, value=\"tnb-google-search-input\")\n",
    "search_box.send_keys(\"this is automated by selenium\")\n",
    "\n",
    "import time\n",
    "time.sleep(5)\n",
    "\n",
    "driver.quit()"
   ],
   "id": "d25419fddb5ee7d7",
   "outputs": [],
   "execution_count": 4
  }
 ],
 "metadata": {
  "kernelspec": {
   "name": "python3",
   "language": "python",
   "display_name": "Python 3 (ipykernel)"
  }
 },
 "nbformat": 5,
 "nbformat_minor": 9
}
