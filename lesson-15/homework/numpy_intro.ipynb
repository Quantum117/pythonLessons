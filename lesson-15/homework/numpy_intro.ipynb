{
 "cells": [
  {
   "metadata": {
    "ExecuteTime": {
     "end_time": "2025-02-09T12:58:10.844586Z",
     "start_time": "2025-02-09T12:58:10.829538Z"
    }
   },
   "cell_type": "code",
   "source": [
    "import numpy as np\n",
    "import random\n",
    "\n",
    "#1. Create a vector with values ranging from 10 to 49.\n",
    "\n",
    "arr = np.arange(10,50,2)\n",
    "print(arr)"
   ],
   "id": "5f8aa0a07e021d25",
   "outputs": [
    {
     "name": "stdout",
     "output_type": "stream",
     "text": [
      "[10 12 14 16 18 20 22 24 26 28 30 32 34 36 38 40 42 44 46 48]\n"
     ]
    }
   ],
   "execution_count": 41
  },
  {
   "metadata": {
    "ExecuteTime": {
     "end_time": "2025-02-09T12:58:10.897979Z",
     "start_time": "2025-02-09T12:58:10.889703Z"
    }
   },
   "cell_type": "code",
   "source": [
    "#2.Create a 3x3 matrix with values ranging from 0 to 8.\n",
    "\n",
    "arr2 = np.ndarray([3,3])\n",
    "\n",
    "for i in range(3):\n",
    "    for j in range(3):\n",
    "        arr2[i,j] = random.randint(1,9)\n",
    "print(arr2)"
   ],
   "id": "d731f6bb409e460",
   "outputs": [
    {
     "name": "stdout",
     "output_type": "stream",
     "text": [
      "[[3. 3. 7.]\n",
      " [5. 1. 7.]\n",
      " [2. 5. 1.]]\n"
     ]
    }
   ],
   "execution_count": 42
  },
  {
   "metadata": {
    "ExecuteTime": {
     "end_time": "2025-02-09T12:58:10.925140Z",
     "start_time": "2025-02-09T12:58:10.915517Z"
    }
   },
   "cell_type": "code",
   "source": [
    "#3. Create a 3x3 identity matrix.\n",
    "\n",
    "arr = np.eye(3)\n",
    "print(arr)"
   ],
   "id": "c3ade82b1ceddfba",
   "outputs": [
    {
     "name": "stdout",
     "output_type": "stream",
     "text": [
      "[[1. 0. 0.]\n",
      " [0. 1. 0.]\n",
      " [0. 0. 1.]]\n"
     ]
    }
   ],
   "execution_count": 43
  },
  {
   "metadata": {
    "ExecuteTime": {
     "end_time": "2025-02-09T12:58:10.968177Z",
     "start_time": "2025-02-09T12:58:10.943737Z"
    }
   },
   "cell_type": "code",
   "source": [
    "# 4. Create a 3x3x3 array with random values.\n",
    "\n",
    "arr4 = np.ndarray([3,3,3])\n",
    "\n",
    "for i in range(3):\n",
    "    for j in range(3):\n",
    "        for k in range(3):\n",
    "          arr4[i,j] = random.randint(1,100)\n",
    "print(arr4)\n"
   ],
   "id": "f9b3fdaf3a55367b",
   "outputs": [
    {
     "name": "stdout",
     "output_type": "stream",
     "text": [
      "[[[18. 18. 18.]\n",
      "  [80. 80. 80.]\n",
      "  [47. 47. 47.]]\n",
      "\n",
      " [[86. 86. 86.]\n",
      "  [64. 64. 64.]\n",
      "  [11. 11. 11.]]\n",
      "\n",
      " [[13. 13. 13.]\n",
      "  [93. 93. 93.]\n",
      "  [39. 39. 39.]]]\n"
     ]
    }
   ],
   "execution_count": 44
  },
  {
   "metadata": {
    "ExecuteTime": {
     "end_time": "2025-02-09T12:58:10.998146Z",
     "start_time": "2025-02-09T12:58:10.982966Z"
    }
   },
   "cell_type": "code",
   "source": [
    "#5. Create a 10x10 array with random values and find the minimum and maximum values.\n",
    "\n",
    "\n",
    "arr5 = np.ndarray([10,10])\n",
    "max_el = min_el = 0\n",
    "for i in range(10):\n",
    "    for j in range(10):\n",
    "        arr5[i,j] = random.randint(10,1000)\n",
    "        if arr5[i,j] > max_el:\n",
    "            max_el = arr5[i,j]\n",
    "        if arr5[i,j] < min_el:\n",
    "            min_el = arr5[i,j]\n",
    "print(max_el, min_el)\n",
    "print(arr5)"
   ],
   "id": "4505f9cff4b52ff3",
   "outputs": [
    {
     "name": "stdout",
     "output_type": "stream",
     "text": [
      "988.0 0\n",
      "[[927. 982. 862.  53. 388. 333.  14. 943.  87. 881.]\n",
      " [677. 908. 786. 751. 643. 378. 812. 716. 416.  38.]\n",
      " [137. 801. 983. 431. 643. 323. 524. 475. 857. 988.]\n",
      " [161. 871. 974. 853. 593. 570. 163. 174. 572. 131.]\n",
      " [105. 957. 567. 654. 771. 111. 314. 655. 205.  67.]\n",
      " [762.  69. 130. 416. 176. 874. 514. 842. 632. 402.]\n",
      " [870. 384. 859. 241. 595. 926. 888. 121. 592.  24.]\n",
      " [ 75. 329. 131. 645. 566. 301. 671. 849. 140. 396.]\n",
      " [874. 265. 144. 967. 898.  56. 573. 961. 468. 176.]\n",
      " [255.  47. 728. 205. 637. 322. 499.  17. 787. 881.]]\n"
     ]
    }
   ],
   "execution_count": 45
  },
  {
   "metadata": {
    "ExecuteTime": {
     "end_time": "2025-02-09T12:58:11.038489Z",
     "start_time": "2025-02-09T12:58:11.029569Z"
    }
   },
   "cell_type": "code",
   "source": [
    "#6 Create a random vector of size 30 and find the mean value.\n",
    "vect = np.random.rand(30)\n",
    "print(vect)\n",
    "print(f\"mean value of vector is : {vect.mean()}\")"
   ],
   "id": "23abe4af3e2c27a3",
   "outputs": [
    {
     "name": "stdout",
     "output_type": "stream",
     "text": [
      "[0.03337995 0.47113311 0.9038019  0.56969011 0.31037921 0.29681014\n",
      " 0.349123   0.40347779 0.05655981 0.16989807 0.13727041 0.90137145\n",
      " 0.03125507 0.24028097 0.6080344  0.90186673 0.99874264 0.27978067\n",
      " 0.25359058 0.93508446 0.8532589  0.78715264 0.84857743 0.752871\n",
      " 0.20669012 0.36467986 0.61319098 0.14551857 0.51320203 0.82684392]\n",
      "mean value of vector is : 0.4921171972926128\n"
     ]
    }
   ],
   "execution_count": 46
  },
  {
   "metadata": {
    "ExecuteTime": {
     "end_time": "2025-02-09T12:58:11.280015Z",
     "start_time": "2025-02-09T12:58:11.260561Z"
    }
   },
   "cell_type": "code",
   "source": [
    "#7 Normalize a 5x5 random matrix.\n",
    "A = np.arange(9).reshape([3,3])\n",
    "A_min, A_max = A.min(), A.max()\n",
    "A_normalized = (A - A_min) / (A_max - A_min)\n",
    "print(A_normalized)"
   ],
   "id": "2b004f3c795a9b16",
   "outputs": [
    {
     "name": "stdout",
     "output_type": "stream",
     "text": [
      "[[0.    0.125 0.25 ]\n",
      " [0.375 0.5   0.625]\n",
      " [0.75  0.875 1.   ]]\n"
     ]
    }
   ],
   "execution_count": 47
  },
  {
   "metadata": {
    "ExecuteTime": {
     "end_time": "2025-02-09T13:02:41.372083Z",
     "start_time": "2025-02-09T13:02:41.352841Z"
    }
   },
   "cell_type": "code",
   "source": [
    "#8 Multiply a 5x3 matrix by a 3x2 matrix (real matrix product).\n",
    "arr_5_3 = np.arange(15).reshape(5,3)\n",
    "arr_3_2 = np.arange(6).reshape(3,2)\n",
    "\n",
    "print(\"first matrix :\\n\", arr_5_3)\n",
    "print(\"second matrix :\\n\", arr_3_2)\n",
    "print(\"dor product: \\n\", np.dot(arr_5_3, arr_3_2))\n"
   ],
   "id": "9088b32962e4a16a",
   "outputs": [
    {
     "name": "stdout",
     "output_type": "stream",
     "text": [
      "first matrix :\n",
      " [[ 0  1  2]\n",
      " [ 3  4  5]\n",
      " [ 6  7  8]\n",
      " [ 9 10 11]\n",
      " [12 13 14]]\n",
      "second matrix :\n",
      " [[0 1]\n",
      " [2 3]\n",
      " [4 5]]\n",
      "dor product: \n",
      " [[ 10  13]\n",
      " [ 28  40]\n",
      " [ 46  67]\n",
      " [ 64  94]\n",
      " [ 82 121]]\n"
     ]
    }
   ],
   "execution_count": 57
  },
  {
   "metadata": {
    "ExecuteTime": {
     "end_time": "2025-02-09T13:09:43.223734Z",
     "start_time": "2025-02-09T13:09:43.210660Z"
    }
   },
   "cell_type": "code",
   "source": [
    "#9 Create two 3x3 matrices and compute their dot product.\n",
    "\n",
    "arr_9_1 = np.random.randint(0, 100, (3, 3))  # Random integers from 0 to 99\n",
    "arr_9_2 = np.random.rand(3, 3)  # Random floats between 0 and 1\n",
    "\n",
    "\n",
    "print(\"first matrix :\\n\", arr_9_1)\n",
    "print(\"second matrix :\\n\", arr_9_2)\n",
    "print(\"dor product: \\n\", np.dot(arr_9_1, arr_9_2))"
   ],
   "id": "f5e4c12eb56a0354",
   "outputs": [
    {
     "name": "stdout",
     "output_type": "stream",
     "text": [
      "first matrix :\n",
      " [[31 28 16]\n",
      " [99 54 79]\n",
      " [74 52 49]]\n",
      "second matrix :\n",
      " [[0.20109483 0.98126555 0.38856071]\n",
      " [0.24185231 0.09436785 0.48620779]\n",
      " [0.1498626  0.81880764 0.22445877]]\n",
      "dor product: \n",
      " [[ 15.40360616  46.16245418  29.25054044]\n",
      " [ 44.80755855 166.92695729  82.45497385]\n",
      " [ 34.8006052  117.64235351  65.03477736]]\n"
     ]
    }
   ],
   "execution_count": 58
  },
  {
   "metadata": {
    "ExecuteTime": {
     "end_time": "2025-02-09T13:13:38.704265Z",
     "start_time": "2025-02-09T13:13:38.680589Z"
    }
   },
   "cell_type": "code",
   "source": [
    "#Given a 4x4 matrix, find its transpose.\n",
    "arr_10 = np.random.randint(0,50, (4, 4))  # Random floats between 0 and 1\n",
    "def transpose_matrix(matrix):\n",
    "    tr = np.transpose(matrix)\n",
    "    print(\"matrix :\\n\", matrix)\n",
    "    print(\"transposed matrix :\\n\", tr)\n",
    "transpose_matrix(arr_10)"
   ],
   "id": "ed151a03a71f4f8a",
   "outputs": [
    {
     "name": "stdout",
     "output_type": "stream",
     "text": [
      "matrix :\n",
      " [[37 17 44 40]\n",
      " [45  9 14 41]\n",
      " [ 8  3 10 29]\n",
      " [30 12 10  4]]\n",
      "transposed matrix :\n",
      " [[37 45  8 30]\n",
      " [17  9  3 12]\n",
      " [44 14 10 10]\n",
      " [40 41 29  4]]\n"
     ]
    }
   ],
   "execution_count": 62
  },
  {
   "metadata": {
    "ExecuteTime": {
     "end_time": "2025-02-09T13:15:51.882750Z",
     "start_time": "2025-02-09T13:15:51.863676Z"
    }
   },
   "cell_type": "code",
   "source": [
    "#11 Create a 3x3 matrix and calculate its determinant.\n",
    "\n",
    "arr_11 = np.random.randint(0,50, (3, 3))  # Random floats between 0 and 1\n",
    "def transpose_matrix(matrix):\n",
    "    tr = np.linalg.det(matrix)\n",
    "    print(\"matrix :\\n\", matrix)\n",
    "    print(\"determinant of the  matrix :\\n\", tr)\n",
    "transpose_matrix(arr_10)"
   ],
   "id": "fd922e8250745f9",
   "outputs": [
    {
     "name": "stdout",
     "output_type": "stream",
     "text": [
      "matrix :\n",
      " [[37 17 44 40]\n",
      " [45  9 14 41]\n",
      " [ 8  3 10 29]\n",
      " [30 12 10  4]]\n",
      "determinant of the  matrix :\n",
      " -143754.0000000001\n"
     ]
    }
   ],
   "execution_count": 63
  },
  {
   "metadata": {
    "ExecuteTime": {
     "end_time": "2025-02-09T13:21:40.918423Z",
     "start_time": "2025-02-09T13:21:40.908924Z"
    }
   },
   "cell_type": "code",
   "source": [
    "#12 Create two matrices ( A ) (3x4) and ( B ) (4x3), and compute the matrix product ( A \\cdot B ).\n",
    "\n",
    "A = np.random.randint(0, 100, (3,4))\n",
    "B = np.random.randint(0, 100, (4, 3))\n",
    "\n",
    "# Matrix product\n",
    "C = A @ B\n",
    "C2 = np.matmul(A, B) # equivalent to above\n",
    "\n",
    "print(\"Matrix A :\", A, '\\nMatrix B : ', B, \"\\nProduct : \", C)"
   ],
   "id": "28b2c8c811c8c292",
   "outputs": [
    {
     "name": "stdout",
     "output_type": "stream",
     "text": [
      "Matrix A : [[42 51 83  6]\n",
      " [66 13 45 66]\n",
      " [78 30 52 44]] \n",
      "Matrix B :  [[23 86 20]\n",
      " [46 35 80]\n",
      " [43 39 70]\n",
      " [ 3 45 59]] \n",
      "Product :  [[ 6899  8904 11084]\n",
      " [ 4249 10856  9404]\n",
      " [ 5542 11766 10196]]\n"
     ]
    }
   ],
   "execution_count": 69
  },
  {
   "metadata": {
    "ExecuteTime": {
     "end_time": "2025-02-09T13:47:44.298851Z",
     "start_time": "2025-02-09T13:47:44.289595Z"
    }
   },
   "cell_type": "code",
   "source": [
    "#13 Create a 3x3 random matrix and a 3-element column vector. Compute the matrix-vector product.\n",
    "A = np.random.randint(0, 100, (3,3))\n",
    "B = np.random.randint(0, 100, 3)\n",
    "# Matrix product\n",
    "C = A @ B\n",
    "C2 = np.matmul(A, B) # equivalent to above\n",
    "\n",
    "print(\"Matrix A :\", A, '\\nMatrix B : ', B, \"\\nProduct : \", C)"
   ],
   "id": "c24af69882185349",
   "outputs": [
    {
     "name": "stdout",
     "output_type": "stream",
     "text": [
      "Matrix A : [[68 71 60]\n",
      " [25 41 94]\n",
      " [60 79 36]] \n",
      "Matrix B :  [ 2  5 30] \n",
      "Product :  [2291 3075 1595]\n"
     ]
    }
   ],
   "execution_count": 74
  },
  {
   "metadata": {
    "ExecuteTime": {
     "end_time": "2025-02-09T13:51:45.243021Z",
     "start_time": "2025-02-09T13:51:45.229724Z"
    }
   },
   "cell_type": "code",
   "source": [
    "#14 Solve the linear system ( Ax = b ) where ( A ) is a 3x3 matrix, and ( b ) is a 3x1 column vector.\n",
    "A = np.random.randint(0, 100, (3,3))\n",
    "B = np.random.randint(0, 100, 3)\n",
    "A_inv = np.linalg.inv(A)\n",
    "# Matrix product\n",
    "C = A_inv @ B\n",
    "\n",
    "\n",
    "print(\"Matrix A:\\n\", A)\n",
    "print(\"Matrix B:\\n\", B)\n",
    "print(\"Solution x:\\n\", C)"
   ],
   "id": "aa4de230a737d0a0",
   "outputs": [
    {
     "name": "stdout",
     "output_type": "stream",
     "text": [
      "Matrix A:\n",
      " [[87 19 40]\n",
      " [51 74 70]\n",
      " [33 66  0]]\n",
      "Matrix B:\n",
      " [87 38 34]\n",
      "Solution x:\n",
      " [ 1.11196238 -0.04082967 -0.22412408]\n"
     ]
    }
   ],
   "execution_count": 79
  },
  {
   "metadata": {
    "ExecuteTime": {
     "end_time": "2025-02-09T13:56:18.600116Z",
     "start_time": "2025-02-09T13:56:18.587783Z"
    }
   },
   "cell_type": "code",
   "source": [
    "#15 Given a 5x5 matrix, find the row-wise and column-wise sums.\n",
    "A = np.random.randint(0, 100, (5,5))\n",
    "\n",
    "column_sum = np.sum(A, axis=1)\n",
    "print(A)\n",
    "row_sum = []\n",
    "for row in A:\n",
    "    row_sum.append(int(np.sum(row)))\n",
    "col_sum = []\n",
    "for col in np.transpose(A):\n",
    "    col_sum.append(int(np.sum(col)))\n",
    "\n",
    "print(\"row sums:\\n\", row_sum)\n",
    "print(\"column sums:\\n\", col_sum)\n",
    "\n"
   ],
   "id": "65cb8ef98cad192f",
   "outputs": [
    {
     "name": "stdout",
     "output_type": "stream",
     "text": [
      "[[91 32 82 85 63]\n",
      " [63 67  9 32 35]\n",
      " [72 79 79 36 20]\n",
      " [74 76 22 81 29]\n",
      " [52 29 47 64 34]]\n",
      "row sums:\n",
      " [353, 206, 286, 282, 226]\n",
      "column sums:\n",
      " [352, 283, 239, 298, 181]\n"
     ]
    }
   ],
   "execution_count": 83
  }
 ],
 "metadata": {
  "kernelspec": {
   "name": "python3",
   "language": "python",
   "display_name": "Python 3 (ipykernel)"
  }
 },
 "nbformat": 5,
 "nbformat_minor": 9
}
