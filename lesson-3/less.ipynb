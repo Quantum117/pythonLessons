{
 "cells": [
  {
   "metadata": {
    "ExecuteTime": {
     "end_time": "2024-12-13T16:02:15.984559Z",
     "start_time": "2024-12-13T16:02:15.975770Z"
    }
   },
   "cell_type": "code",
   "source": "print(\"this is first cell\")\n",
   "id": "12a3ae5b727dd79f",
   "outputs": [
    {
     "name": "stdout",
     "output_type": "stream",
     "text": [
      "this is first cell\n"
     ]
    }
   ],
   "execution_count": 1
  }
 ],
 "metadata": {
  "kernelspec": {
   "name": "python3",
   "language": "python",
   "display_name": "Python 3 (ipykernel)"
  }
 },
 "nbformat": 5,
 "nbformat_minor": 9
}
